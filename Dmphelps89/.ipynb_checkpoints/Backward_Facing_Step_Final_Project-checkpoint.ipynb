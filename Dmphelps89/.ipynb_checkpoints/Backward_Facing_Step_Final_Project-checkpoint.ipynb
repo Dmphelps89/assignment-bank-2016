{
 "cells": [
  {
   "cell_type": "markdown",
   "metadata": {},
   "source": [
    "Content under Creative Commons Attribution license CC-BY 4.0, code under MIT license (c)2014 D. M. Phelps"
   ]
  },
  {
   "cell_type": "markdown",
   "metadata": {},
   "source": [
    "# Backward Facing Step and Non Symmetrical Domains"
   ]
  },
  {
   "cell_type": "markdown",
   "metadata": {},
   "source": [
    "## Background"
   ]
  },
  {
   "cell_type": "markdown",
   "metadata": {},
   "source": [
    "So far in our lectures we have only discussed symmetical domains. That is to say we have dealt with boundries which are neat and orderly. In this lecture we will discuss how to incorperate steps and cavities into our domains. \n",
    "\n",
    "Many engineering problems studied today involve uniquely defined boundries. In this notebook we will look at the Backward Facing Step. The Backward Facing Step problem is a commonly studied problem which creates seperated flow and turbulance. It is defined as having free stream flow passing over a sharp ridge the flow will seperate at the ridge and reattach down stream.\n"
   ]
  },
  {
   "cell_type": "markdown",
   "metadata": {},
   "source": [
    "## Equations"
   ]
  },
  {
   "cell_type": "markdown",
   "metadata": {},
   "source": [
    "The governing equations for this flow will be Navier Stokes in two dimension and  an equation to relate pressure to velocity."
   ]
  },
  {
   "cell_type": "markdown",
   "metadata": {},
   "source": [
    "\n",
    "N.S. X direction\n",
    "$$\n",
    "\\frac{\\partial u}{\\partial t} \n",
    "+u\\frac{\\partial u}{\\partial x}\n",
    "+v\\frac{\\partial u}{\\partial y}\n",
    "=\n",
    "-\\frac{1}{\\rho}\\frac{\\partial p}{\\partial x}\n",
    "+\n",
    "\\nu\\left(\n",
    "\\frac{\\partial^2 u}{\\partial x^2}\n",
    "+\n",
    "\\frac{\\partial^2 u}{\\partial y^2}\\right)\n",
    "$$\n",
    "\n",
    "N.S. Y direction\n",
    "$$\n",
    "\\frac{\\partial v}{\\partial t} \n",
    "+v\\frac{\\partial v}{\\partial x}\n",
    "+u\\frac{\\partial v}{\\partial y}\n",
    "=\n",
    "-\\frac{1}{\\rho}\\frac{\\partial p}{\\partial y}\n",
    "+\n",
    "\\nu\\left(\n",
    "\\frac{\\partial^2 v}{\\partial y^2}\n",
    "+\n",
    "\\frac{\\partial^2 v}{\\partial x^2}\\right)\n",
    "$$\n",
    "\n",
    "Pressure\n",
    "$$\n",
    "\\frac{\\partial^2 p}{\\partial x^2}\n",
    "+\n",
    "\\frac{\\partial^2 p}{\\partial y^2}\n",
    "=\n",
    "-\n",
    "\\rho\\left(\n",
    "\\frac{\\partial u}{\\partial x}\n",
    "\\frac{\\partial u}{\\partial x}\n",
    "+\n",
    "2\n",
    "\\frac{\\partial u}{\\partial x}\n",
    "\\frac{\\partial v}{\\partial y}\n",
    "+\n",
    "\\frac{\\partial v}{\\partial y}\n",
    "\\frac{\\partial v}{\\partial y}\n",
    "\\right)\n",
    "$$\n"
   ]
  },
  {
   "cell_type": "markdown",
   "metadata": {},
   "source": [
    "## Boundry Conditions"
   ]
  },
  {
   "cell_type": "markdown",
   "metadata": {},
   "source": [
    "Next we will create our domain and define all parameters we will need later in the solver. \n",
    "\n",
    "First lets think about our physical space. The step/wall will have a no slip condition. We will only have free stream flow in the X direction. finally we will be sloving for the fully developed flow.\n",
    "\n",
    "*No slip => u,v = 0 along the walls\n",
    "\n",
    "*Free stream only in x => u = 1 , v = 0 for all open boundries\n",
    "\n",
    "*Homogenous neumann boundry conditions will be used for pressure.\n"
   ]
  },
  {
   "cell_type": "code",
   "execution_count": 13,
   "metadata": {
    "collapsed": true
   },
   "outputs": [],
   "source": [
    "import numpy\n",
    "from matplotlib import pyplot, cm \n",
    "from mpl_toolkits.mplot3d import Axes3D\n",
    "%matplotlib inline"
   ]
  },
  {
   "cell_type": "code",
   "execution_count": 12,
   "metadata": {
    "collapsed": false
   },
   "outputs": [],
   "source": [
    "#spatial parameters\n",
    "nx = 101\n",
    "ny = 101\n",
    "dx = 2 / (nx - 1)\n",
    "dy = 2 / (ny - 1)\n",
    "x = numpy.linspace (0,10,nx)\n",
    "y = numpy.linspace (0,10,ny)\n",
    "X , Y = numpy.meshgrid(x,y)\n",
    "H = .25*(ny-1)  #height of step as fraction of ny\n",
    "L = .1*(nx -1)  #length of the step as a fraction of nx\n",
    "\n",
    "#physical constants\n",
    "rho = 1\n",
    "nu = 1 \n",
    "\n",
    "#temporal parameters \n",
    "nt = 10 #may need to vary to achieve steady state \n",
    "dt = .0001 #\n",
    "\n",
    "#initial velocity and pressure arrays\n",
    "p = numpy.zeros((ny,nx))\n",
    "u = numpy.zeros((ny,nx))\n",
    "v = numpy.zeros((ny,nx))"
   ]
  },
  {
   "cell_type": "markdown",
   "metadata": {},
   "source": [
    "Now lets write functions to impose our boundry conditions"
   ]
  },
  {
   "cell_type": "code",
   "execution_count": 14,
   "metadata": {
    "collapsed": true
   },
   "outputs": [],
   "source": [
    "def Vel_BC(u,v,H,L):\n",
    "    \"\"\" returns u and v with correct boundry conditions imposed\n",
    "    \n",
    "    Parameters\n",
    "    ----------\n",
    "    u : array of floats \n",
    "        array containing u at given time\n",
    "    v : array of floats \n",
    "        array containing v at given time\n",
    "    H : Interger\n",
    "        Interger representing step hieght\n",
    "    L : Interger \n",
    "        Interger representing the length of the step\n",
    "    \n",
    "    Returns\n",
    "    -------\n",
    "    u : array of floats \n",
    "        array containing u at given time with BC imposed\n",
    "    v : array of floats \n",
    "        array containing v at given time with BC imposed\n",
    "    \"\"\"\n",
    "    \n",
    "    #impose simple boundry conditions then correct for the step.\n",
    "    # u,v bottom of domain\n",
    "    u[0,:] = 0\n",
    "    v[0,:] = 0\n",
    "    #u,v left side of domain\n",
    "    u[:,0] = 1\n",
    "    v[:,0] = 0\n",
    "    #u,v top of domain\n",
    "    u[-1,:] = 1\n",
    "    v[-1,:] = 0\n",
    "     #u,v right side of domain\n",
    "    u[:,-1] = 1\n",
    "    v[:,-1] = 0\n",
    "    # now we \n",
    "    # u,v for the step\n",
    "    u[0:H,0:L] = 0\n",
    "    v[0:H,0:L] = 0 \n",
    "    \n",
    "    return u , v"
   ]
  },
  {
   "cell_type": "markdown",
   "metadata": {},
   "source": [
    "## Numerical Method"
   ]
  },
  {
   "cell_type": "markdown",
   "metadata": {},
   "source": [
    "Discussion of the numerical method used"
   ]
  },
  {
   "cell_type": "markdown",
   "metadata": {},
   "source": [
    "## Solving the problem"
   ]
  },
  {
   "cell_type": "markdown",
   "metadata": {},
   "source": [
    "make and use the solver, plot the solved velocity field"
   ]
  },
  {
   "cell_type": "markdown",
   "metadata": {},
   "source": [
    "## Convergence Check"
   ]
  },
  {
   "cell_type": "markdown",
   "metadata": {},
   "source": [
    "check the convergence of our solution"
   ]
  },
  {
   "cell_type": "markdown",
   "metadata": {},
   "source": [
    "## References"
   ]
  },
  {
   "cell_type": "markdown",
   "metadata": {},
   "source": [
    "list of references used to create this notebook\n",
    "\n",
    "http://lorenabarba.com/blog/cfd-python-12-steps-to-navier-stokes/"
   ]
  },
  {
   "cell_type": "code",
   "execution_count": null,
   "metadata": {
    "collapsed": true
   },
   "outputs": [],
   "source": []
  }
 ],
 "metadata": {
  "kernelspec": {
   "display_name": "Python [default]",
   "language": "python",
   "name": "python3"
  },
  "language_info": {
   "codemirror_mode": {
    "name": "ipython",
    "version": 3
   },
   "file_extension": ".py",
   "mimetype": "text/x-python",
   "name": "python",
   "nbconvert_exporter": "python",
   "pygments_lexer": "ipython3",
   "version": "3.5.2"
  }
 },
 "nbformat": 4,
 "nbformat_minor": 1
}
