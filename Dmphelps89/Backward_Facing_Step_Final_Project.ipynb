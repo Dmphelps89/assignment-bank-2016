{
 "cells": [
  {
   "cell_type": "markdown",
   "metadata": {},
   "source": [
    "Content under Creative Commons Attribution license CC-BY 4.0, code under MIT license (c)2014 D. M. Phelps"
   ]
  },
  {
   "cell_type": "markdown",
   "metadata": {},
   "source": [
    "# Backward Facing Step and Non Symmetrical Domains"
   ]
  },
  {
   "cell_type": "markdown",
   "metadata": {},
   "source": [
    "## Background"
   ]
  },
  {
   "cell_type": "markdown",
   "metadata": {},
   "source": [
    "So far in our lectures we have only discussed symmetical domains. That is to say we have dealt with boundries which are neat and orderly. In this lecture we will discuss how to incorperate steps and cavities into our domains. \n",
    "\n",
    "Many engineering problems studied today involve uniquely defined boundries. In this notebook we will look at the Backward Facing Step. The Backward Facing Step problem is a commonly studied problem which creates seperated flow and turbulance. It is defined as having free stream flow passing over a sharp ridge the flow will seperate at the ridge and reattach down stream.\n"
   ]
  },
  {
   "cell_type": "markdown",
   "metadata": {},
   "source": [
    "## Equations"
   ]
  },
  {
   "cell_type": "markdown",
   "metadata": {},
   "source": [
    "The governing equations for this flow will be Navier Stokes in two dimension and  an equation to relate pressure to velocity."
   ]
  },
  {
   "cell_type": "markdown",
   "metadata": {},
   "source": [
    "\n",
    "N.S. X direction\n",
    "$$\n",
    "\\frac{\\partial u}{\\partial t} \n",
    "+u\\frac{\\partial u}{\\partial x}\n",
    "+v\\frac{\\partial u}{\\partial y}\n",
    "=\n",
    "-\\frac{1}{\\rho}\\frac{\\partial p}{\\partial x}\n",
    "+\n",
    "\\nu\\left(\n",
    "\\frac{\\partial^2 u}{\\partial x^2}\n",
    "+\n",
    "\\frac{\\partial^2 u}{\\partial y^2}\\right)\n",
    "$$\n",
    "\n",
    "N.S. Y direction\n",
    "$$\n",
    "\\frac{\\partial v}{\\partial t} \n",
    "+v\\frac{\\partial v}{\\partial x}\n",
    "+u\\frac{\\partial v}{\\partial y}\n",
    "=\n",
    "-\\frac{1}{\\rho}\\frac{\\partial p}{\\partial y}\n",
    "+\n",
    "\\nu\\left(\n",
    "\\frac{\\partial^2 v}{\\partial y^2}\n",
    "+\n",
    "\\frac{\\partial^2 v}{\\partial x^2}\\right)\n",
    "$$\n",
    "\n",
    "Pressure\n",
    "$$\n",
    "\\frac{\\partial^2 p}{\\partial x^2}\n",
    "+\n",
    "\\frac{\\partial^2 p}{\\partial y^2}\n",
    "=\n",
    "-\n",
    "\\rho\\left(\n",
    "\\frac{\\partial u}{\\partial x}\n",
    "\\frac{\\partial u}{\\partial x}\n",
    "+\n",
    "2\n",
    "\\frac{\\partial u}{\\partial x}\n",
    "\\frac{\\partial v}{\\partial y}\n",
    "+\n",
    "\\frac{\\partial v}{\\partial y}\n",
    "\\frac{\\partial v}{\\partial y}\n",
    "\\right)\n",
    "$$\n"
   ]
  },
  {
   "cell_type": "markdown",
   "metadata": {},
   "source": [
    "## Boundry Conditions"
   ]
  },
  {
   "cell_type": "markdown",
   "metadata": {},
   "source": [
    "Next we will create our domain and define all parameters we will need later in the solver. \n",
    "\n",
    "First lets think about our physical space. The step/wall will have a no slip condition. We will only have free stream flow in the X direction. finally we will be sloving for the fully developed flow.\n",
    "\n",
    "*No slip => u,v = 0 along the walls\n",
    "\n",
    "*Free stream only in x => u = 1 , v = 0 for all open boundries\n",
    "\n",
    "*Homogenous neumann boundry conditions will be used for pressure.\n"
   ]
  },
  {
   "cell_type": "code",
   "execution_count": 32,
   "metadata": {
    "collapsed": true
   },
   "outputs": [],
   "source": [
    "import numpy\n",
    "from matplotlib import pyplot, cm \n",
    "from mpl_toolkits.mplot3d import Axes3D\n",
    "%matplotlib inline"
   ]
  },
  {
   "cell_type": "code",
   "execution_count": 33,
   "metadata": {
    "collapsed": false
   },
   "outputs": [],
   "source": [
    "#spatial parameters\n",
    "nx = 101\n",
    "ny = 101\n",
    "dx = 2 / (nx - 1)\n",
    "dy = 2 / (ny - 1)\n",
    "x = numpy.linspace (0,10,nx)\n",
    "y = numpy.linspace (0,10,ny)\n",
    "X , Y = numpy.meshgrid(x,y)\n",
    "H = .25*(ny-1)  #height of step as fraction of ny\n",
    "L = .1*(nx -1)  #length of the step as a fraction of nx\n",
    "\n",
    "#physical constants\n",
    "rho = 1\n",
    "nu = 1 \n",
    "\n",
    "#temporal parameters \n",
    "nt = 10 #may need to vary to achieve steady state \n",
    "dt = .0001 #\n",
    "\n",
    "#initial velocity and pressure arrays\n",
    "p = numpy.zeros((ny,nx))\n",
    "u = numpy.zeros((ny,nx))\n",
    "v = numpy.zeros((ny,nx))\n",
    "limit = 0.001 # limit for how accurate our pressure poisoon equation needs to be"
   ]
  },
  {
   "cell_type": "markdown",
   "metadata": {},
   "source": [
    "Now lets write functions to impose our boundry conditions"
   ]
  },
  {
   "cell_type": "code",
   "execution_count": 34,
   "metadata": {
    "collapsed": true
   },
   "outputs": [],
   "source": [
    "def Vel_BC(u,v,H,L):\n",
    "    \"\"\" returns u and v with correct boundry conditions imposed\n",
    "    \n",
    "    Parameters\n",
    "    ----------\n",
    "    u : array of floats \n",
    "        array containing u at given time\n",
    "    v : array of floats \n",
    "        array containing v at given time\n",
    "    H : Interger\n",
    "        Interger representing step hieght\n",
    "    L : Interger \n",
    "        Interger representing the length of the step\n",
    "    \n",
    "    Returns\n",
    "    -------\n",
    "    u : array of floats \n",
    "        array containing u at given time with BC imposed\n",
    "    v : array of floats \n",
    "        array containing v at given time with BC imposed\n",
    "    \"\"\"\n",
    "    \n",
    "    #impose simple boundry conditions then correct for the step.\n",
    "    # u,v bottom of domain\n",
    "    u[0,:] = 0\n",
    "    v[0,:] = 0\n",
    "    #u,v left side of domain\n",
    "    u[:,0] = 1\n",
    "    v[:,0] = 0\n",
    "    #u,v top of domain\n",
    "    u[-1,:] = 1\n",
    "    v[-1,:] = 0\n",
    "     #u,v right side of domain\n",
    "    u[1:,-1] = 1\n",
    "    v[:,-1] = 0\n",
    "    # now we correct for the step\n",
    "    # u,v for the step\n",
    "    u[0:H,0:L] = 0\n",
    "    v[0:H,0:L] = 0 \n",
    "    \n",
    "    return u , v"
   ]
  },
  {
   "cell_type": "code",
   "execution_count": 36,
   "metadata": {
    "collapsed": false
   },
   "outputs": [],
   "source": [
    "def Pres_BC(p,H,L):\n",
    "    \"\"\" returns P with correct boundry conditions imposed\n",
    "    \n",
    "    Parameters\n",
    "    ----------\n",
    "    p : array of floats \n",
    "        array containing p at given time\n",
    "    H : Interger\n",
    "        Interger representing step hieght\n",
    "    L : Interger \n",
    "        Interger representing the length of the step\n",
    "    \n",
    "    Returns\n",
    "    -------\n",
    "    p : array of floats \n",
    "        array containing P at given time with BC imposed\n",
    "    \"\"\"\n",
    "   \n",
    "    #impose simple boundry conditions then correct for the step.\n",
    "    # P bottom of domain\n",
    "    p[0 ,: ] = p[ 1, :] \n",
    "    #P left side of domain\n",
    "    p[: ,0 ] = p[ :, 1]\n",
    "    #u,v top of domain\n",
    "    p[-1,: ] = p[-2, :] \n",
    "    #u,v right side of domain\n",
    "    p[: ,-1] = p[: ,-2]\n",
    "    # now we correct for the step\n",
    "    # Pfor the step\n",
    "    p[H  ,0:L] = p[H+1,0:L]\n",
    "    p[H-1,0:L] = p[H  ,0:L]\n",
    "    p[H-2,0:L] = p[H-1,0:L]\n",
    "    p[0:H,L  ] = p[0:H,L+1]\n",
    "    p[0:H,L-1] = p[0:H,L  ]\n",
    "    p[0:H,L-2] = p[0:H,L-1]\n",
    "    \n",
    "    return P"
   ]
  },
  {
   "cell_type": "markdown",
   "metadata": {},
   "source": [
    "## Numerical Method"
   ]
  },
  {
   "cell_type": "markdown",
   "metadata": {},
   "source": [
    "describe the discritization scheme"
   ]
  },
  {
   "cell_type": "markdown",
   "metadata": {},
   "source": [
    "## Solving the problem"
   ]
  },
  {
   "cell_type": "markdown",
   "metadata": {},
   "source": [
    "Now that we a our boundry conditions established lets make a solver. \n",
    "We will start with a function to solve to pressure part of this problem. Then make solver than incorporates that function and solves the complete problem."
   ]
  },
  {
   "cell_type": "code",
   "execution_count": 45,
   "metadata": {
    "collapsed": false
   },
   "outputs": [],
   "source": [
    "def Pressure(p,u,v,dx,dy,limit,rho):\n",
    "    \"\"\" solves pressure poisson \n",
    "    \n",
    "    Parameters\n",
    "    ----------\n",
    "    p     : array of floats \n",
    "            array containing P at given time\n",
    "    u     : array of floats \n",
    "            array containing u at given time\n",
    "    v     : array of floats \n",
    "            array containing v at given time \n",
    "    dx    : float\n",
    "            defines to grid spacing in x \n",
    "    dy    : float\n",
    "            defines to grid spacing in y\n",
    "    limit : float\n",
    "            defines how percise the pressure poisson needs to be solved\n",
    "    rho   : float \n",
    "            physical constant for density\n",
    "    \n",
    "    \n",
    "    Returns\n",
    "    -------\n",
    "    p : array of floats \n",
    "        array containing p after pressure poisson has been solved\n",
    "    \"\"\"\n",
    "   \n",
    "    pnorm = 1\n",
    "    while pnorm > limit :\n",
    "        pn = p.copy()\n",
    "        \n",
    "        p[1:-1,1:-1] = (((pn[1:-1,2:  ] + pn[1:-1,0:-2])*dy**2 \\\n",
    "                     +   (pn[2:  ,1:-1] + pn[0:-2,1:-1]))*dx**2 \\\n",
    "                     / (2*(dx**2 +dy**2))) \\\n",
    "                     - ((rho*dx**2*dy**2)/(2*(dx**2 + dy**2)))  \\\n",
    "                     * ((1/dt)*(((u[1:-1,2:  ] -u[1:-1,0:-2])/(2*dx)) \\\n",
    "                                ((v[2:  ,1:-1] -v[0:-2,1:-1])/(2*dy))) \\\n",
    "                     -          ((u[1:-1,2:  ] -u[1:-1,0:-2])/(2*dx))\\\n",
    "                     *          ((u[1:-1,2:  ] -u[1:-1,1:-2])/(2*dx))\\\n",
    "                   -2*         (((u[2:  ,1:-1] -u[0:-2,1:-1])/(2*dy))\\\n",
    "                     *          ((v[1:-1,2:  ] -v[1:-1,0:-2])/(2*dx)))\\\n",
    "                     -         (((v[2:  ,1:-1] -v[0:-2,1:-1])/(2*dy))\\\n",
    "                     *          ((v[2:  ,1:-1] -v[0:-2,1:-1])/(2*dy)))) \n",
    "                     \n",
    "        pn = Pres_BC(pn,H,L)\n",
    "        pnorm = numpy.sum(numpy.abs(pn-p))\n",
    "                        \n",
    "    "
   ]
  },
  {
   "cell_type": "code",
   "execution_count": 46,
   "metadata": {
    "collapsed": false
   },
   "outputs": [],
   "source": [
    "def BFS(u,v,p,dx,dy,dt,limit,rho,nu,nt):\n",
    "    \"\"\" solves backward facing step \n",
    "    \n",
    "    Parameters\n",
    "    ----------\n",
    "    u     : array of floats \n",
    "            array containing u at given time\n",
    "    v     : array of floats \n",
    "            array containing v at given time \n",
    "    p     : array of floats \n",
    "            array containing P at given time                       \n",
    "    dx    : float\n",
    "            defines to grid spacing in x \n",
    "    dy    : float\n",
    "            defines to grid spacing in y\n",
    "    dt    : float\n",
    "            defines step size in time            \n",
    "    limit : float\n",
    "            defines how percise the pressure poisson needs to be solved\n",
    "    rho   : float \n",
    "            physical constant for density\n",
    "    nu    : float \n",
    "            physical constant for viscosity\n",
    "    nt    : float\n",
    "            defines how long in times to solver will work forward\n",
    "    \n",
    "    Returns\n",
    "    -------\n",
    "    u : array of floats \n",
    "        array containing u after the backward facing step solver has worked forward to time nt\n",
    "    v : array of floats \n",
    "        array containing v after the backward facing step solver has worked forward to time nt\n",
    "    p : array of floats \n",
    "        array containing p after the backward facing step solver has worked forward to time nt    \n",
    "    \"\"\"\n",
    "    \n",
    "    un = numpy.empty_like(u)\n",
    "    vn = numpy.empty_like(v)\n",
    "    \n",
    "    for n in range(nt):\n",
    "        un = u.copy()\n",
    "        vn = v.copy()\n",
    "        p = Pressure(p,u,v,dx,dy,limit,rho)\n",
    "        u[1:-1,1:-1] = ( un[1:-1,1:-1]\n",
    "                       - un[1:-1,1:-1]*(dt/dx)\n",
    "                       *(un[1:-1,1:-1]-un[1:-1,0:-2])\n",
    "                       - vn[1:-1,1:-1]*(dt/dy) \n",
    "                       *(un[1:-1,1:-1]-un[0:-2,1:-1])\n",
    "                       -(dt/(2*rho*dx))\n",
    "                       *( p[1:-1,2:  ]- p[1:-1,0:-2])  \n",
    "                    +nu*((dt/dx**2) \n",
    "                       *(un[1:-1,2:  ]-2*un[1:-1,1:-1]+un[1:-1,0:-2])\n",
    "                       +(dt/dy**2)\n",
    "                       *(un[2:  ,1:-1]-2*un[1:-1,1:-1]+un[0:-2,1:-1])))\n",
    "        \n",
    "                         \n",
    "            \n",
    "        v[1:-1,1:-1] = ( vn[1:-1,1:-1]\n",
    "                       - un[1:-1,1:-1]*(dt/dx)\n",
    "                       *(vn[1:-1,1:-1]-vn[1:-1,0:-2])\n",
    "                       - vn[1:-1,1:-1]*(dt/dy) \n",
    "                       *(vn[1:-1,1:-1]-vn[0:-2,1:-1])\n",
    "                       -(dt/(2*rho*dx))\n",
    "                       *( p[1:-1,2:  ]- p[1:-1,0:-2])  \n",
    "                    +nu*((dt/dx**2) \n",
    "                       *(vn[1:-1,2:  ]-2*vn[1:-1,1:-1]+vn[1:-1,0:-2])\n",
    "                       +(dt/dy**2)\n",
    "                       *(vn[2:  ,1:-1]-2*vn[1:-1,1:-1]+vn[0:-2,1:-1]))) \n",
    "        \n",
    "        u,v = Vel_BC(u,v,H,L)\n",
    "        return u,v,p\n",
    "                        \n",
    "                            "
   ]
  },
  {
   "cell_type": "markdown",
   "metadata": {},
   "source": [
    "Now lets run our code with the number of time steps we guessed."
   ]
  },
  {
   "cell_type": "code",
   "execution_count": 47,
   "metadata": {
    "collapsed": false
   },
   "outputs": [
    {
     "ename": "TypeError",
     "evalue": "'numpy.ndarray' object is not callable",
     "output_type": "error",
     "traceback": [
      "\u001b[0;31m---------------------------------------------------------------------------\u001b[0m",
      "\u001b[0;31mTypeError\u001b[0m                                 Traceback (most recent call last)",
      "\u001b[0;32m<ipython-input-47-1f0f4791c8a9>\u001b[0m in \u001b[0;36m<module>\u001b[0;34m()\u001b[0m\n\u001b[0;32m----> 1\u001b[0;31m \u001b[0mu\u001b[0m\u001b[0;34m,\u001b[0m\u001b[0mv\u001b[0m\u001b[0;34m,\u001b[0m\u001b[0mp\u001b[0m \u001b[0;34m=\u001b[0m \u001b[0mBFS\u001b[0m\u001b[0;34m(\u001b[0m\u001b[0mu\u001b[0m\u001b[0;34m,\u001b[0m\u001b[0mv\u001b[0m\u001b[0;34m,\u001b[0m\u001b[0mp\u001b[0m\u001b[0;34m,\u001b[0m\u001b[0mdx\u001b[0m\u001b[0;34m,\u001b[0m\u001b[0mdy\u001b[0m\u001b[0;34m,\u001b[0m\u001b[0mdt\u001b[0m\u001b[0;34m,\u001b[0m\u001b[0mlimit\u001b[0m\u001b[0;34m,\u001b[0m\u001b[0mrho\u001b[0m\u001b[0;34m,\u001b[0m\u001b[0mnu\u001b[0m\u001b[0;34m,\u001b[0m\u001b[0mnt\u001b[0m\u001b[0;34m)\u001b[0m\u001b[0;34m\u001b[0m\u001b[0m\n\u001b[0m",
      "\u001b[0;32m<ipython-input-46-86a7ab050e12>\u001b[0m in \u001b[0;36mBFS\u001b[0;34m(u, v, p, dx, dy, dt, limit, rho, nu, nt)\u001b[0m\n\u001b[1;32m     41\u001b[0m         \u001b[0mun\u001b[0m \u001b[0;34m=\u001b[0m \u001b[0mu\u001b[0m\u001b[0;34m.\u001b[0m\u001b[0mcopy\u001b[0m\u001b[0;34m(\u001b[0m\u001b[0;34m)\u001b[0m\u001b[0;34m\u001b[0m\u001b[0m\n\u001b[1;32m     42\u001b[0m         \u001b[0mvn\u001b[0m \u001b[0;34m=\u001b[0m \u001b[0mv\u001b[0m\u001b[0;34m.\u001b[0m\u001b[0mcopy\u001b[0m\u001b[0;34m(\u001b[0m\u001b[0;34m)\u001b[0m\u001b[0;34m\u001b[0m\u001b[0m\n\u001b[0;32m---> 43\u001b[0;31m         \u001b[0mp\u001b[0m \u001b[0;34m=\u001b[0m \u001b[0mPressure\u001b[0m\u001b[0;34m(\u001b[0m\u001b[0mp\u001b[0m\u001b[0;34m,\u001b[0m\u001b[0mu\u001b[0m\u001b[0;34m,\u001b[0m\u001b[0mv\u001b[0m\u001b[0;34m,\u001b[0m\u001b[0mdx\u001b[0m\u001b[0;34m,\u001b[0m\u001b[0mdy\u001b[0m\u001b[0;34m,\u001b[0m\u001b[0mlimit\u001b[0m\u001b[0;34m,\u001b[0m\u001b[0mrho\u001b[0m\u001b[0;34m)\u001b[0m\u001b[0;34m\u001b[0m\u001b[0m\n\u001b[0m\u001b[1;32m     44\u001b[0m         u[1:-1,1:-1] = ( un[1:-1,1:-1]\n\u001b[1;32m     45\u001b[0m                        \u001b[0;34m-\u001b[0m \u001b[0mun\u001b[0m\u001b[0;34m[\u001b[0m\u001b[0;36m1\u001b[0m\u001b[0;34m:\u001b[0m\u001b[0;34m-\u001b[0m\u001b[0;36m1\u001b[0m\u001b[0;34m,\u001b[0m\u001b[0;36m1\u001b[0m\u001b[0;34m:\u001b[0m\u001b[0;34m-\u001b[0m\u001b[0;36m1\u001b[0m\u001b[0;34m]\u001b[0m\u001b[0;34m*\u001b[0m\u001b[0;34m(\u001b[0m\u001b[0mdt\u001b[0m\u001b[0;34m/\u001b[0m\u001b[0mdx\u001b[0m\u001b[0;34m)\u001b[0m\u001b[0;34m\u001b[0m\u001b[0m\n",
      "\u001b[0;32m<ipython-input-45-b4ae26d6296d>\u001b[0m in \u001b[0;36mPressure\u001b[0;34m(p, u, v, dx, dy, limit, rho)\u001b[0m\n\u001b[1;32m     30\u001b[0m         \u001b[0mpn\u001b[0m \u001b[0;34m=\u001b[0m \u001b[0mp\u001b[0m\u001b[0;34m.\u001b[0m\u001b[0mcopy\u001b[0m\u001b[0;34m(\u001b[0m\u001b[0;34m)\u001b[0m\u001b[0;34m\u001b[0m\u001b[0m\n\u001b[1;32m     31\u001b[0m \u001b[0;34m\u001b[0m\u001b[0m\n\u001b[0;32m---> 32\u001b[0;31m         \u001b[0mp\u001b[0m\u001b[0;34m[\u001b[0m\u001b[0;36m1\u001b[0m\u001b[0;34m:\u001b[0m\u001b[0;34m-\u001b[0m\u001b[0;36m1\u001b[0m\u001b[0;34m,\u001b[0m\u001b[0;36m1\u001b[0m\u001b[0;34m:\u001b[0m\u001b[0;34m-\u001b[0m\u001b[0;36m1\u001b[0m\u001b[0;34m]\u001b[0m \u001b[0;34m=\u001b[0m \u001b[0;34m(\u001b[0m\u001b[0;34m(\u001b[0m\u001b[0;34m(\u001b[0m\u001b[0mpn\u001b[0m\u001b[0;34m[\u001b[0m\u001b[0;36m1\u001b[0m\u001b[0;34m:\u001b[0m\u001b[0;34m-\u001b[0m\u001b[0;36m1\u001b[0m\u001b[0;34m,\u001b[0m\u001b[0;36m2\u001b[0m\u001b[0;34m:\u001b[0m  \u001b[0;34m]\u001b[0m \u001b[0;34m+\u001b[0m \u001b[0mpn\u001b[0m\u001b[0;34m[\u001b[0m\u001b[0;36m1\u001b[0m\u001b[0;34m:\u001b[0m\u001b[0;34m-\u001b[0m\u001b[0;36m1\u001b[0m\u001b[0;34m,\u001b[0m\u001b[0;36m0\u001b[0m\u001b[0;34m:\u001b[0m\u001b[0;34m-\u001b[0m\u001b[0;36m2\u001b[0m\u001b[0;34m]\u001b[0m\u001b[0;34m)\u001b[0m\u001b[0;34m*\u001b[0m\u001b[0mdy\u001b[0m\u001b[0;34m**\u001b[0m\u001b[0;36m2\u001b[0m                      \u001b[0;34m+\u001b[0m   \u001b[0;34m(\u001b[0m\u001b[0mpn\u001b[0m\u001b[0;34m[\u001b[0m\u001b[0;36m2\u001b[0m\u001b[0;34m:\u001b[0m  \u001b[0;34m,\u001b[0m\u001b[0;36m1\u001b[0m\u001b[0;34m:\u001b[0m\u001b[0;34m-\u001b[0m\u001b[0;36m1\u001b[0m\u001b[0;34m]\u001b[0m \u001b[0;34m+\u001b[0m \u001b[0mpn\u001b[0m\u001b[0;34m[\u001b[0m\u001b[0;36m0\u001b[0m\u001b[0;34m:\u001b[0m\u001b[0;34m-\u001b[0m\u001b[0;36m2\u001b[0m\u001b[0;34m,\u001b[0m\u001b[0;36m1\u001b[0m\u001b[0;34m:\u001b[0m\u001b[0;34m-\u001b[0m\u001b[0;36m1\u001b[0m\u001b[0;34m]\u001b[0m\u001b[0;34m)\u001b[0m\u001b[0;34m)\u001b[0m\u001b[0;34m*\u001b[0m\u001b[0mdx\u001b[0m\u001b[0;34m**\u001b[0m\u001b[0;36m2\u001b[0m                      \u001b[0;34m/\u001b[0m \u001b[0;34m(\u001b[0m\u001b[0;36m2\u001b[0m\u001b[0;34m*\u001b[0m\u001b[0;34m(\u001b[0m\u001b[0mdx\u001b[0m\u001b[0;34m**\u001b[0m\u001b[0;36m2\u001b[0m \u001b[0;34m+\u001b[0m\u001b[0mdy\u001b[0m\u001b[0;34m**\u001b[0m\u001b[0;36m2\u001b[0m\u001b[0;34m)\u001b[0m\u001b[0;34m)\u001b[0m\u001b[0;34m)\u001b[0m                      \u001b[0;34m-\u001b[0m \u001b[0;34m(\u001b[0m\u001b[0;34m(\u001b[0m\u001b[0mrho\u001b[0m\u001b[0;34m*\u001b[0m\u001b[0mdx\u001b[0m\u001b[0;34m**\u001b[0m\u001b[0;36m2\u001b[0m\u001b[0;34m*\u001b[0m\u001b[0mdy\u001b[0m\u001b[0;34m**\u001b[0m\u001b[0;36m2\u001b[0m\u001b[0;34m)\u001b[0m\u001b[0;34m/\u001b[0m\u001b[0;34m(\u001b[0m\u001b[0;36m2\u001b[0m\u001b[0;34m*\u001b[0m\u001b[0;34m(\u001b[0m\u001b[0mdx\u001b[0m\u001b[0;34m**\u001b[0m\u001b[0;36m2\u001b[0m \u001b[0;34m+\u001b[0m \u001b[0mdy\u001b[0m\u001b[0;34m**\u001b[0m\u001b[0;36m2\u001b[0m\u001b[0;34m)\u001b[0m\u001b[0;34m)\u001b[0m\u001b[0;34m)\u001b[0m                       \u001b[0;34m*\u001b[0m \u001b[0;34m(\u001b[0m\u001b[0;34m(\u001b[0m\u001b[0;36m1\u001b[0m\u001b[0;34m/\u001b[0m\u001b[0mdt\u001b[0m\u001b[0;34m)\u001b[0m\u001b[0;34m*\u001b[0m\u001b[0;34m(\u001b[0m\u001b[0;34m(\u001b[0m\u001b[0;34m(\u001b[0m\u001b[0mu\u001b[0m\u001b[0;34m[\u001b[0m\u001b[0;36m1\u001b[0m\u001b[0;34m:\u001b[0m\u001b[0;34m-\u001b[0m\u001b[0;36m1\u001b[0m\u001b[0;34m,\u001b[0m\u001b[0;36m2\u001b[0m\u001b[0;34m:\u001b[0m  \u001b[0;34m]\u001b[0m \u001b[0;34m-\u001b[0m\u001b[0mu\u001b[0m\u001b[0;34m[\u001b[0m\u001b[0;36m1\u001b[0m\u001b[0;34m:\u001b[0m\u001b[0;34m-\u001b[0m\u001b[0;36m1\u001b[0m\u001b[0;34m,\u001b[0m\u001b[0;36m0\u001b[0m\u001b[0;34m:\u001b[0m\u001b[0;34m-\u001b[0m\u001b[0;36m2\u001b[0m\u001b[0;34m]\u001b[0m\u001b[0;34m)\u001b[0m\u001b[0;34m/\u001b[0m\u001b[0;34m(\u001b[0m\u001b[0;36m2\u001b[0m\u001b[0;34m*\u001b[0m\u001b[0mdx\u001b[0m\u001b[0;34m)\u001b[0m\u001b[0;34m)\u001b[0m                                 \u001b[0;34m(\u001b[0m\u001b[0;34m(\u001b[0m\u001b[0mv\u001b[0m\u001b[0;34m[\u001b[0m\u001b[0;36m2\u001b[0m\u001b[0;34m:\u001b[0m  \u001b[0;34m,\u001b[0m\u001b[0;36m1\u001b[0m\u001b[0;34m:\u001b[0m\u001b[0;34m-\u001b[0m\u001b[0;36m1\u001b[0m\u001b[0;34m]\u001b[0m \u001b[0;34m-\u001b[0m\u001b[0mv\u001b[0m\u001b[0;34m[\u001b[0m\u001b[0;36m0\u001b[0m\u001b[0;34m:\u001b[0m\u001b[0;34m-\u001b[0m\u001b[0;36m2\u001b[0m\u001b[0;34m,\u001b[0m\u001b[0;36m1\u001b[0m\u001b[0;34m:\u001b[0m\u001b[0;34m-\u001b[0m\u001b[0;36m1\u001b[0m\u001b[0;34m]\u001b[0m\u001b[0;34m)\u001b[0m\u001b[0;34m/\u001b[0m\u001b[0;34m(\u001b[0m\u001b[0;36m2\u001b[0m\u001b[0;34m*\u001b[0m\u001b[0mdy\u001b[0m\u001b[0;34m)\u001b[0m\u001b[0;34m)\u001b[0m\u001b[0;34m)\u001b[0m                      \u001b[0;34m-\u001b[0m          \u001b[0;34m(\u001b[0m\u001b[0;34m(\u001b[0m\u001b[0mu\u001b[0m\u001b[0;34m[\u001b[0m\u001b[0;36m1\u001b[0m\u001b[0;34m:\u001b[0m\u001b[0;34m-\u001b[0m\u001b[0;36m1\u001b[0m\u001b[0;34m,\u001b[0m\u001b[0;36m2\u001b[0m\u001b[0;34m:\u001b[0m  \u001b[0;34m]\u001b[0m \u001b[0;34m-\u001b[0m\u001b[0mu\u001b[0m\u001b[0;34m[\u001b[0m\u001b[0;36m1\u001b[0m\u001b[0;34m:\u001b[0m\u001b[0;34m-\u001b[0m\u001b[0;36m1\u001b[0m\u001b[0;34m,\u001b[0m\u001b[0;36m0\u001b[0m\u001b[0;34m:\u001b[0m\u001b[0;34m-\u001b[0m\u001b[0;36m2\u001b[0m\u001b[0;34m]\u001b[0m\u001b[0;34m)\u001b[0m\u001b[0;34m/\u001b[0m\u001b[0;34m(\u001b[0m\u001b[0;36m2\u001b[0m\u001b[0;34m*\u001b[0m\u001b[0mdx\u001b[0m\u001b[0;34m)\u001b[0m\u001b[0;34m)\u001b[0m                     \u001b[0;34m*\u001b[0m          \u001b[0;34m(\u001b[0m\u001b[0;34m(\u001b[0m\u001b[0mu\u001b[0m\u001b[0;34m[\u001b[0m\u001b[0;36m1\u001b[0m\u001b[0;34m:\u001b[0m\u001b[0;34m-\u001b[0m\u001b[0;36m1\u001b[0m\u001b[0;34m,\u001b[0m\u001b[0;36m2\u001b[0m\u001b[0;34m:\u001b[0m  \u001b[0;34m]\u001b[0m \u001b[0;34m-\u001b[0m\u001b[0mu\u001b[0m\u001b[0;34m[\u001b[0m\u001b[0;36m1\u001b[0m\u001b[0;34m:\u001b[0m\u001b[0;34m-\u001b[0m\u001b[0;36m1\u001b[0m\u001b[0;34m,\u001b[0m\u001b[0;36m1\u001b[0m\u001b[0;34m:\u001b[0m\u001b[0;34m-\u001b[0m\u001b[0;36m2\u001b[0m\u001b[0;34m]\u001b[0m\u001b[0;34m)\u001b[0m\u001b[0;34m/\u001b[0m\u001b[0;34m(\u001b[0m\u001b[0;36m2\u001b[0m\u001b[0;34m*\u001b[0m\u001b[0mdx\u001b[0m\u001b[0;34m)\u001b[0m\u001b[0;34m)\u001b[0m                   \u001b[0;34m-\u001b[0m\u001b[0;36m2\u001b[0m\u001b[0;34m*\u001b[0m         \u001b[0;34m(\u001b[0m\u001b[0;34m(\u001b[0m\u001b[0;34m(\u001b[0m\u001b[0mu\u001b[0m\u001b[0;34m[\u001b[0m\u001b[0;36m2\u001b[0m\u001b[0;34m:\u001b[0m  \u001b[0;34m,\u001b[0m\u001b[0;36m1\u001b[0m\u001b[0;34m:\u001b[0m\u001b[0;34m-\u001b[0m\u001b[0;36m1\u001b[0m\u001b[0;34m]\u001b[0m \u001b[0;34m-\u001b[0m\u001b[0mu\u001b[0m\u001b[0;34m[\u001b[0m\u001b[0;36m0\u001b[0m\u001b[0;34m:\u001b[0m\u001b[0;34m-\u001b[0m\u001b[0;36m2\u001b[0m\u001b[0;34m,\u001b[0m\u001b[0;36m1\u001b[0m\u001b[0;34m:\u001b[0m\u001b[0;34m-\u001b[0m\u001b[0;36m1\u001b[0m\u001b[0;34m]\u001b[0m\u001b[0;34m)\u001b[0m\u001b[0;34m/\u001b[0m\u001b[0;34m(\u001b[0m\u001b[0;36m2\u001b[0m\u001b[0;34m*\u001b[0m\u001b[0mdy\u001b[0m\u001b[0;34m)\u001b[0m\u001b[0;34m)\u001b[0m                     \u001b[0;34m*\u001b[0m          \u001b[0;34m(\u001b[0m\u001b[0;34m(\u001b[0m\u001b[0mv\u001b[0m\u001b[0;34m[\u001b[0m\u001b[0;36m1\u001b[0m\u001b[0;34m:\u001b[0m\u001b[0;34m-\u001b[0m\u001b[0;36m1\u001b[0m\u001b[0;34m,\u001b[0m\u001b[0;36m2\u001b[0m\u001b[0;34m:\u001b[0m  \u001b[0;34m]\u001b[0m \u001b[0;34m-\u001b[0m\u001b[0mv\u001b[0m\u001b[0;34m[\u001b[0m\u001b[0;36m1\u001b[0m\u001b[0;34m:\u001b[0m\u001b[0;34m-\u001b[0m\u001b[0;36m1\u001b[0m\u001b[0;34m,\u001b[0m\u001b[0;36m0\u001b[0m\u001b[0;34m:\u001b[0m\u001b[0;34m-\u001b[0m\u001b[0;36m2\u001b[0m\u001b[0;34m]\u001b[0m\u001b[0;34m)\u001b[0m\u001b[0;34m/\u001b[0m\u001b[0;34m(\u001b[0m\u001b[0;36m2\u001b[0m\u001b[0;34m*\u001b[0m\u001b[0mdx\u001b[0m\u001b[0;34m)\u001b[0m\u001b[0;34m)\u001b[0m\u001b[0;34m)\u001b[0m                     \u001b[0;34m-\u001b[0m         \u001b[0;34m(\u001b[0m\u001b[0;34m(\u001b[0m\u001b[0;34m(\u001b[0m\u001b[0mv\u001b[0m\u001b[0;34m[\u001b[0m\u001b[0;36m2\u001b[0m\u001b[0;34m:\u001b[0m  \u001b[0;34m,\u001b[0m\u001b[0;36m1\u001b[0m\u001b[0;34m:\u001b[0m\u001b[0;34m-\u001b[0m\u001b[0;36m1\u001b[0m\u001b[0;34m]\u001b[0m \u001b[0;34m-\u001b[0m\u001b[0mv\u001b[0m\u001b[0;34m[\u001b[0m\u001b[0;36m0\u001b[0m\u001b[0;34m:\u001b[0m\u001b[0;34m-\u001b[0m\u001b[0;36m2\u001b[0m\u001b[0;34m,\u001b[0m\u001b[0;36m1\u001b[0m\u001b[0;34m:\u001b[0m\u001b[0;34m-\u001b[0m\u001b[0;36m1\u001b[0m\u001b[0;34m]\u001b[0m\u001b[0;34m)\u001b[0m\u001b[0;34m/\u001b[0m\u001b[0;34m(\u001b[0m\u001b[0;36m2\u001b[0m\u001b[0;34m*\u001b[0m\u001b[0mdy\u001b[0m\u001b[0;34m)\u001b[0m\u001b[0;34m)\u001b[0m                     \u001b[0;34m*\u001b[0m          \u001b[0;34m(\u001b[0m\u001b[0;34m(\u001b[0m\u001b[0mv\u001b[0m\u001b[0;34m[\u001b[0m\u001b[0;36m2\u001b[0m\u001b[0;34m:\u001b[0m  \u001b[0;34m,\u001b[0m\u001b[0;36m1\u001b[0m\u001b[0;34m:\u001b[0m\u001b[0;34m-\u001b[0m\u001b[0;36m1\u001b[0m\u001b[0;34m]\u001b[0m \u001b[0;34m-\u001b[0m\u001b[0mv\u001b[0m\u001b[0;34m[\u001b[0m\u001b[0;36m0\u001b[0m\u001b[0;34m:\u001b[0m\u001b[0;34m-\u001b[0m\u001b[0;36m2\u001b[0m\u001b[0;34m,\u001b[0m\u001b[0;36m1\u001b[0m\u001b[0;34m:\u001b[0m\u001b[0;34m-\u001b[0m\u001b[0;36m1\u001b[0m\u001b[0;34m]\u001b[0m\u001b[0;34m)\u001b[0m\u001b[0;34m/\u001b[0m\u001b[0;34m(\u001b[0m\u001b[0;36m2\u001b[0m\u001b[0;34m*\u001b[0m\u001b[0mdy\u001b[0m\u001b[0;34m)\u001b[0m\u001b[0;34m)\u001b[0m\u001b[0;34m)\u001b[0m\u001b[0;34m)\u001b[0m\u001b[0;34m\u001b[0m\u001b[0m\n\u001b[0m\u001b[1;32m     33\u001b[0m \u001b[0;34m\u001b[0m\u001b[0m\n\u001b[1;32m     34\u001b[0m         \u001b[0mpn\u001b[0m \u001b[0;34m=\u001b[0m \u001b[0mPres_BC\u001b[0m\u001b[0;34m(\u001b[0m\u001b[0mpn\u001b[0m\u001b[0;34m,\u001b[0m\u001b[0mH\u001b[0m\u001b[0;34m,\u001b[0m\u001b[0mL\u001b[0m\u001b[0;34m)\u001b[0m\u001b[0;34m\u001b[0m\u001b[0m\n",
      "\u001b[0;31mTypeError\u001b[0m: 'numpy.ndarray' object is not callable"
     ]
    }
   ],
   "source": [
    "u,v,p = BFS(u,v,p,dx,dy,dt,limit,rho,nu,nt)"
   ]
  },
  {
   "cell_type": "markdown",
   "metadata": {},
   "source": [
    "Lets get a plot of what our velocity field looks like "
   ]
  },
  {
   "cell_type": "code",
   "execution_count": 48,
   "metadata": {
    "collapsed": false
   },
   "outputs": [
    {
     "data": {
      "text/plain": [
       "<matplotlib.text.Text at 0x7f6609ffc860>"
      ]
     },
     "execution_count": 48,
     "metadata": {},
     "output_type": "execute_result"
    },
    {
     "name": "stderr",
     "output_type": "stream",
     "text": [
      "/home/gil/anaconda3/lib/python3.5/site-packages/matplotlib/quiver.py:645: RuntimeWarning: divide by zero encountered in double_scalars\n",
      "  length = a * (widthu_per_lenu / (self.scale * self.width))\n",
      "/home/gil/anaconda3/lib/python3.5/site-packages/matplotlib/quiver.py:645: RuntimeWarning: invalid value encountered in multiply\n",
      "  length = a * (widthu_per_lenu / (self.scale * self.width))\n",
      "/home/gil/anaconda3/lib/python3.5/site-packages/matplotlib/quiver.py:701: RuntimeWarning: invalid value encountered in less\n",
      "  short = np.repeat(length < minsh, 8, axis=1)\n",
      "/home/gil/anaconda3/lib/python3.5/site-packages/matplotlib/quiver.py:711: RuntimeWarning: invalid value encountered in less\n",
      "  tooshort = length < self.minlength\n"
     ]
    },
    {
     "data": {
      "image/png": "[encoded data removed]",
      "text/plain": [
       "<matplotlib.figure.Figure at 0x7f660836f9b0>"
      ]
     },
     "metadata": {},
     "output_type": "display_data"
    }
   ],
   "source": [
    "fig = pyplot.figure(figsize=(10,10), dpi = 100)\n",
    "pyplot.quiver(X[::2,::2],Y[::2,::2],u[::2,::2],v[::2,::2])\n",
    "pyplot.xlabel('x')\n",
    "pyplot.ylabel('y')"
   ]
  },
  {
   "cell_type": "markdown",
   "metadata": {},
   "source": [
    "## References"
   ]
  },
  {
   "cell_type": "markdown",
   "metadata": {},
   "source": [
    "list of references used to create this notebook\n",
    "\n",
    "http://lorenabarba.com/blog/cfd-python-12-steps-to-navier-stokes/"
   ]
  },
  {
   "cell_type": "code",
   "execution_count": null,
   "metadata": {
    "collapsed": true
   },
   "outputs": [],
   "source": []
  }
 ],
 "metadata": {
  "kernelspec": {
   "display_name": "Python [default]",
   "language": "python",
   "name": "python3"
  },
  "language_info": {
   "codemirror_mode": {
    "name": "ipython",
    "version": 3
   },
   "file_extension": ".py",
   "mimetype": "text/x-python",
   "name": "python",
   "nbconvert_exporter": "python",
   "pygments_lexer": "ipython3",
   "version": "3.5.2"
  }
 },
 "nbformat": 4,
 "nbformat_minor": 1
}
